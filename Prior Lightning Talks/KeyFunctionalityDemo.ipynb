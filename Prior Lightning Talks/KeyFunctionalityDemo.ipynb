{
 "cells": [
  {
   "cell_type": "markdown",
   "metadata": {},
   "source": [
    "# Object Creation & Data Porting using Pandas"
   ]
  },
  {
   "cell_type": "markdown",
   "metadata": {},
   "source": [
    "First import necessary packages i.e. Pandas and Numpy"
   ]
  },
  {
   "cell_type": "code",
   "execution_count": 4,
   "metadata": {},
   "outputs": [],
   "source": [
    "import pandas as pd\n",
    "import numpy as np"
   ]
  },
  {
   "cell_type": "markdown",
   "metadata": {},
   "source": [
    "Creation of a basic Data Series using pandas "
   ]
  },
  {
   "cell_type": "code",
   "execution_count": 8,
   "metadata": {},
   "outputs": [
    {
     "name": "stdout",
     "output_type": "stream",
     "text": [
      "a    0.204920\n",
      "b   -0.609990\n",
      "c   -0.096485\n",
      "d   -0.717962\n",
      "e    1.736536\n",
      "dtype: float64\n"
     ]
    }
   ],
   "source": [
    "s = pd.Series(np.random.randn(5), index=['a','b','c','d','e'])\n",
    "print(s)"
   ]
  },
  {
   "cell_type": "markdown",
   "metadata": {},
   "source": [
    "Similarly, the DataFrame() method creates a Pandas Data Frame object"
   ]
  },
  {
   "cell_type": "code",
   "execution_count": 9,
   "metadata": {},
   "outputs": [
    {
     "name": "stdout",
     "output_type": "stream",
     "text": [
      "          A         B         C\n",
      "0 -1.926836  0.791689  0.763729\n",
      "1 -0.642713  0.830605 -0.417487\n",
      "2 -0.031738 -0.009586  1.427578\n",
      "3 -1.428473  0.712870 -0.342118\n",
      "4 -1.315070  0.748948  0.718498\n",
      "5  0.293317 -0.162948  0.279391\n",
      "6  1.871696 -1.448573  1.626997\n",
      "7 -0.649457  0.701447  0.865526\n"
     ]
    }
   ],
   "source": [
    "# Creating a data frame of random values with date as row index \n",
    "index = pd.date_range(start='1/1/2000', periods=8)\n",
    "df = pd.DataFrame(np.random.randn(8,3), index=np.arange(8), columns=['A','B','C'])\n",
    "print(df)"
   ]
  }
 ],
 "metadata": {
  "kernelspec": {
   "display_name": "Python 3",
   "language": "python",
   "name": "python3"
  },
  "language_info": {
   "codemirror_mode": {
    "name": "ipython",
    "version": 3
   },
   "file_extension": ".py",
   "mimetype": "text/x-python",
   "name": "python",
   "nbconvert_exporter": "python",
   "pygments_lexer": "ipython3",
   "version": "3.7.4"
  }
 },
 "nbformat": 4,
 "nbformat_minor": 4
}
