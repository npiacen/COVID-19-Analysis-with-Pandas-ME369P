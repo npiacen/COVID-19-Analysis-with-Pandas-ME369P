{
 "cells": [
  {
   "cell_type": "markdown",
   "metadata": {},
   "source": [
    "# Pandas Lightning Talk Demo\n",
    "We will go over how to use pandas to import and process data related to the novel COVID-19 virus\n",
    "\n",
    "The first step is to import Pandas\n",
    "Also include matplotlib inline to show graphs in Pandas\n",
    "\n",
    "Copyright Nick Piacente, Ziam Ghaznavi, David Cayll\n",
    "\n",
    "Link to Repo: https://github.com/npiacen/COVID-19-Analysis-with-Pandas-ME369P\n",
    "\n",
    "Feel free to fork/propose improvements to the visualization!\n",
    "\n",
    "## Data Source\n",
    "Johns Hopkins University is compiling COVID-19 data from multiple sources daily.  They publish the raw data on their Github page.  We can find the most recent data at the link below:\n",
    "\n",
    "https://github.com/CSSEGISandData/COVID-19\n",
    "\n",
    "We can import the data related to global deaths, confirmed cases, and recovered cases using these links to their data"
   ]
  },
  {
   "cell_type": "code",
   "execution_count": null,
   "metadata": {},
   "outputs": [],
   "source": [
    "%matplotlib inline\n",
    "\n",
    "import pandas as pd\n",
    "import matplotlib.pyplot as plt\n",
    "import datetime\n",
    "\n",
    "# formatting for Jupyter Notebook\n",
    "pd.options.display.max_columns = None\n",
    "pd.options.display.max_rows = None\n",
    "\n",
    "deaths_url = 'https://raw.githubusercontent.com/CSSEGISandData/COVID-19/master/csse_covid_19_data/csse_covid_19_time_series/time_series_covid19_deaths_global.csv'\n",
    "confirmed_url = 'https://raw.githubusercontent.com/CSSEGISandData/COVID-19/master/csse_covid_19_data/csse_covid_19_time_series/time_series_covid19_confirmed_global.csv'\n",
    "\n",
    "Deaths = pd.read_csv(deaths_url)\n",
    "Confirmed = pd.read_csv(confirmed_url)\n",
    "\n",
    "type(Confirmed)\n",
    "\n",
    "# also works\n",
    "#type(Deaths)\n"
   ]
  },
  {
   "cell_type": "markdown",
   "metadata": {},
   "source": [
    "## The data is now contained in a Pandas DataFrame \n"
   ]
  },
  {
   "cell_type": "code",
   "execution_count": null,
   "metadata": {
    "scrolled": true
   },
   "outputs": [],
   "source": [
    "Deaths"
   ]
  },
  {
   "cell_type": "markdown",
   "metadata": {},
   "source": [
    "### The (minimally processed) DataFrame can be seen below\n",
    "Sorted by confirmed count max at the latest date"
   ]
  },
  {
   "cell_type": "code",
   "execution_count": null,
   "metadata": {
    "scrolled": false
   },
   "outputs": [],
   "source": [
    "# formatting for Jupyter Notebook\n",
    "pd.options.display.max_columns = 13\n",
    "pd.options.display.max_rows = None\n",
    "\n",
    "# get the most recent data of data\n",
    "mostRecentDate = Deaths.columns[-1] # gets the columns of the matrix\n",
    "\n",
    "# try 'Confirmed', 'Deaths'\n",
    "dataName = 'Confirmed'\n",
    "\n",
    "data = eval(dataName)\n",
    "\n",
    "# show the data frame\n",
    "data.sort_values(by=mostRecentDate, ascending = False).head(10)"
   ]
  },
  {
   "cell_type": "markdown",
   "metadata": {},
   "source": [
    "# Show confirmed cases by date for the worst 20 countries\n",
    "\n",
    "Adding Filters can make the data more meaningful. \n",
    "We won't use the Lat/Long data, and need to group the data by country\n",
    "\n",
    "We can compile final country data using the pivot_table command.\n",
    "\n",
    "Formatting methods can be daisy chained to combine into a single command"
   ]
  },
  {
   "cell_type": "code",
   "execution_count": null,
   "metadata": {
    "scrolled": false
   },
   "outputs": [],
   "source": [
    "# drop Lat and Long, they won't be needed\n",
    "countryFrames = data.drop(['Lat','Long'], axis=1)\n",
    "\n",
    "# save this index variable to save the order.\n",
    "index = countryFrames.columns.drop(['Province/State']) \n",
    "\n",
    "# The pivot_table method will eliminate duplicate entries from Countries with more than one city\n",
    "countryFrames.pivot_table(index = 'Country/Region', aggfunc = sum)\n",
    "\n",
    "# formatting using a variety of methods to process and sort data\n",
    "finalFrame = countryFrames.transpose().reindex(index).transpose().set_index('Country/Region').sort_values(by=mostRecentDate, ascending=False).transpose()"
   ]
  },
  {
   "cell_type": "code",
   "execution_count": null,
   "metadata": {
    "scrolled": true
   },
   "outputs": [],
   "source": [
    "finalFrame"
   ]
  },
  {
   "cell_type": "markdown",
   "metadata": {},
   "source": [
    "## We can plot the data for the top 10 countries"
   ]
  },
  {
   "cell_type": "code",
   "execution_count": null,
   "metadata": {
    "scrolled": false
   },
   "outputs": [],
   "source": [
    "#try other amounts\n",
    "topAmount = 10\n",
    "finalFrame.iloc[:, :topAmount].plot(figsize=(15, 10), title = \"Data from COVID in the Top {} Countries - {} as of {}\".format(topAmount,dataName, mostRecentDate))"
   ]
  },
  {
   "cell_type": "markdown",
   "metadata": {},
   "source": [
    "# Lets take a look at the most recent US Data \n",
    "Existing cases by day are tracked in a different CSV, labeled : 'MM-DD-YYYY.csv' in a different directory from JHU"
   ]
  },
  {
   "cell_type": "code",
   "execution_count": null,
   "metadata": {},
   "outputs": [],
   "source": [
    "#date logic\n",
    "month,day,year = map(int,mostRecentDate.split('/'))\n",
    "dateFormatted = datetime.date(year+2000,month,day)\n",
    "\n",
    "dateForURL = dateFormatted.strftime(\"%m-%d-%Y.csv\")\n",
    "mostRecent_url = 'https://raw.githubusercontent.com/CSSEGISandData/COVID-19/master/csse_covid_19_data/csse_covid_19_daily_reports/' + dateForURL\n",
    "mostRecentFrame = pd.read_csv(mostRecent_url)\n",
    "\n",
    "mostRecentFrame"
   ]
  },
  {
   "cell_type": "markdown",
   "metadata": {},
   "source": [
    "# More Filtering"
   ]
  },
  {
   "cell_type": "code",
   "execution_count": null,
   "metadata": {
    "scrolled": true
   },
   "outputs": [],
   "source": [
    "# filters the dataframe to the criteria below.\n",
    "state = 'Texas' # try others\n",
    "data = 'Confirmed' # try 'Deaths', 'Recovered', and 'Active'\n",
    "\n",
    "frameToPlot = mostRecentFrame.sort_values(by=data, ascending = False).copy()\n",
    "frameToPlot.rename(columns = {'Combined_Key':'County/State','Admin2':'County'}, inplace = True)\n",
    "\n",
    "# This creates a true/false table which filters the data\n",
    "selectedState = frameToPlot['Province_State'] == (state)\n",
    "selectedCountry = frameToPlot['Country_Region'] == 'US'\n",
    "\n",
    "frameToPlot[selectedState]"
   ]
  },
  {
   "cell_type": "markdown",
   "metadata": {},
   "source": [
    "# Integration with matplotlib\n",
    "Pandas plots can integrate easily with matplotlib\n",
    "The following matplot figure is generated with values straight from dataFrames"
   ]
  },
  {
   "cell_type": "code",
   "execution_count": null,
   "metadata": {
    "scrolled": false
   },
   "outputs": [],
   "source": [
    "####################################\n",
    "#######  VISUALIZE THE DATA ########\n",
    "####################################\n",
    "\n",
    "fig = plt.figure(figsize = (15,15))\n",
    "fig.suptitle('COVID-19 Data in America and Abroad', size = 32)\n",
    "grid_size = (15,15)\n",
    "\n",
    "# Place A Title On The Figure\n",
    "fig.text(x=0.8, y=0.05, s='Sources: John\\'s Hopkins University', horizontalalignment='left')\n",
    "# Overlay multiple plots onto the same axis, which spans 1 entire column of the figure\n",
    "bottom_ax = plt.subplot2grid(grid_size, (7,0), colspan=15, rowspan=8)\n",
    "upper_left_ax = plt.subplot2grid(grid_size, (0,0), colspan=7, rowspan=6)\n",
    "upper_right_ax = plt.subplot2grid(grid_size, (0,10), colspan=7, rowspan=6)\n",
    "\n",
    "frameToPlot[selectedState][:10].plot(ax = upper_left_ax, kind='barh', x = 'County', y = [data], title = 'Data for Counties in {}, Top 10 - {} as of {}'.format(state, data,mostRecentDate), legend = False) \n",
    "frameToPlot[selectedCountry][:20].plot(ax = upper_right_ax, kind='barh', x = 'County/State', y = [data], title = 'Data for Counties in US, Top 20 - {} as of {}'.format(data, mostRecentDate), color = 'C1', legend = False) \n",
    "finalFrame.iloc[:, :topAmount].plot(ax=bottom_ax, title = \"Data from COVID in the Top {} Countries - {}\".format(topAmount,dataName))"
   ]
  },
  {
   "cell_type": "code",
   "execution_count": null,
   "metadata": {},
   "outputs": [],
   "source": [
    "fig.savefig('COVID-19_Dashboard_{}.jpeg'.format(mostRecentDate.replace('/','_')))"
   ]
  },
  {
   "cell_type": "code",
   "execution_count": null,
   "metadata": {},
   "outputs": [],
   "source": []
  }
 ],
 "metadata": {
  "kernelspec": {
   "display_name": "Python 3",
   "language": "python",
   "name": "python3"
  },
  "language_info": {
   "codemirror_mode": {
    "name": "ipython",
    "version": 3
   },
   "file_extension": ".py",
   "mimetype": "text/x-python",
   "name": "python",
   "nbconvert_exporter": "python",
   "pygments_lexer": "ipython3",
   "version": "3.7.4"
  }
 },
 "nbformat": 4,
 "nbformat_minor": 2
}
