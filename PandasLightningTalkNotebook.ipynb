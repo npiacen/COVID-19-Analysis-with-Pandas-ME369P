{
 "cells": [
  {
   "cell_type": "markdown",
   "metadata": {},
   "source": [
    "# Pandas Lightning Talk Demo\n",
    "We will go over how to use pandas to import and process data from a csv\n",
    "The first step is to import Pandas\n"
   ]
  },
  {
   "cell_type": "code",
   "execution_count": 3,
   "metadata": {},
   "outputs": [],
   "source": [
    "import pandas as pd"
   ]
  },
  {
   "cell_type": "markdown",
   "metadata": {},
   "source": [
    "## Bring in data\n",
    "We can bring in data using the read_csv method. \n",
    "Data coming from: "
   ]
  },
  {
   "cell_type": "code",
   "execution_count": 4,
   "metadata": {},
   "outputs": [],
   "source": [
    "deaths = pd.read_csv('time_series_19-covid-Deaths.csv')\n",
    "confirmed = pd.read_csv('time_series_19-covid-Confirmed.csv')\n",
    "recovered = pd.read_csv('time_series_19-covid-Recovered.csv')"
   ]
  },
  {
   "cell_type": "code",
   "execution_count": 8,
   "metadata": {
    "scrolled": true
   },
   "outputs": [
    {
     "name": "stdout",
     "output_type": "stream",
     "text": [
      "     Province/State  Country/Region      Lat      Long  1/22/20  1/23/20  \\\n",
      "0               NaN        Thailand  15.0000  101.0000        2        3   \n",
      "1               NaN           Japan  36.0000  138.0000        2        1   \n",
      "2               NaN       Singapore   1.2833  103.8333        0        1   \n",
      "3               NaN           Nepal  28.1667   84.2500        0        0   \n",
      "4               NaN        Malaysia   2.5000  112.5000        0        0   \n",
      "..              ...             ...      ...       ...      ...      ...   \n",
      "458             NaN         Somalia   5.1521   46.1996        0        0   \n",
      "459             NaN        Tanzania  -6.3690   34.8888        0        0   \n",
      "460             NaN     The Bahamas  24.2500  -76.0000        0        0   \n",
      "461  Virgin Islands              US  18.3358  -64.8963        0        0   \n",
      "462  Cayman Islands  United Kingdom  19.3133  -81.2546        0        0   \n",
      "\n",
      "     1/24/20  1/25/20  1/26/20  1/27/20  ...  3/7/20  3/8/20  3/9/20  3/10/20  \\\n",
      "0          5        7        8        8  ...      50      50      50       53   \n",
      "1          2        2        4        4  ...     461     502     511      581   \n",
      "2          3        3        4        5  ...     138     150     150      160   \n",
      "3          0        1        1        1  ...       1       1       1        1   \n",
      "4          0        3        4        4  ...      93      99     117      129   \n",
      "..       ...      ...      ...      ...  ...     ...     ...     ...      ...   \n",
      "458        0        0        0        0  ...       0       0       0        0   \n",
      "459        0        0        0        0  ...       0       0       0        0   \n",
      "460        0        0        0        0  ...       0       0       0        0   \n",
      "461        0        0        0        0  ...       0       0       0        0   \n",
      "462        0        0        0        0  ...       0       0       0        0   \n",
      "\n",
      "     3/11/20  3/12/20  3/13/20  3/14/20  3/15/20  3/16/20  \n",
      "0         59       70       75       82      114      147  \n",
      "1        639      639      701      773      839      825  \n",
      "2        178      178      200      212      226      243  \n",
      "3          1        1        1        1        1        1  \n",
      "4        149      149      197      238      428      566  \n",
      "..       ...      ...      ...      ...      ...      ...  \n",
      "458        0        0        0        0        0        1  \n",
      "459        0        0        0        0        0        1  \n",
      "460        0        0        0        0        0        1  \n",
      "461        0        0        0        1        1        1  \n",
      "462        0        0        1        1        1        1  \n",
      "\n",
      "[463 rows x 59 columns]\n"
     ]
    }
   ],
   "source": [
    "print(confirmed)"
   ]
  },
  {
   "cell_type": "code",
   "execution_count": null,
   "metadata": {},
   "outputs": [],
   "source": []
  },
  {
   "cell_type": "code",
   "execution_count": null,
   "metadata": {},
   "outputs": [],
   "source": []
  }
 ],
 "metadata": {
  "kernelspec": {
   "display_name": "Python 3",
   "language": "python",
   "name": "python3"
  },
  "language_info": {
   "codemirror_mode": {
    "name": "ipython",
    "version": 3
   },
   "file_extension": ".py",
   "mimetype": "text/x-python",
   "name": "python",
   "nbconvert_exporter": "python",
   "pygments_lexer": "ipython3",
   "version": "3.7.4"
  }
 },
 "nbformat": 4,
 "nbformat_minor": 2
}
